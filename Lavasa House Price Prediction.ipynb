{
 "cells": [
  {
   "cell_type": "markdown",
   "id": "9222ade8",
   "metadata": {},
   "source": [
    "### importing the libraries"
   ]
  },
  {
   "cell_type": "code",
   "execution_count": 1,
   "id": "0f0cae24",
   "metadata": {},
   "outputs": [],
   "source": [
    "import numpy as np\n",
    "import pandas as pd\n",
    "import seaborn as sns\n",
    "import matplotlib.pyplot as plt \n",
    "plt.style.use('seaborn')\n",
    "import warnings\n",
    "warnings.filterwarnings('ignore')"
   ]
  },
  {
   "cell_type": "markdown",
   "id": "1371d4dc",
   "metadata": {},
   "source": [
    "### Libraries to visualization of Data"
   ]
  },
  {
   "cell_type": "code",
   "execution_count": 2,
   "id": "a3632e1a",
   "metadata": {},
   "outputs": [],
   "source": [
    "# To plot pretty figures\n",
    "%matplotlib inline\n",
    "import matplotlib as mpl\n",
    "import matplotlib.pyplot as plt\n",
    "mpl.rc('axes', labelsize=14)\n",
    "mpl.rc('xtick', labelsize=12)\n",
    "mpl.rc('ytick', labelsize=12)"
   ]
  },
  {
   "cell_type": "markdown",
   "id": "b3bdba50",
   "metadata": {},
   "source": [
    "### We are using HousePrice Datasets using pandas dataframe Library"
   ]
  },
  {
   "cell_type": "code",
   "execution_count": 3,
   "id": "179144da",
   "metadata": {},
   "outputs": [
    {
     "data": {
      "text/html": [
       "<div>\n",
       "<style scoped>\n",
       "    .dataframe tbody tr th:only-of-type {\n",
       "        vertical-align: middle;\n",
       "    }\n",
       "\n",
       "    .dataframe tbody tr th {\n",
       "        vertical-align: top;\n",
       "    }\n",
       "\n",
       "    .dataframe thead th {\n",
       "        text-align: right;\n",
       "    }\n",
       "</style>\n",
       "<table border=\"1\" class=\"dataframe\">\n",
       "  <thead>\n",
       "    <tr style=\"text-align: right;\">\n",
       "      <th></th>\n",
       "      <th>BuildingType</th>\n",
       "      <th>Location</th>\n",
       "      <th>Size</th>\n",
       "      <th>AreaSqFt</th>\n",
       "      <th>NoOfBath</th>\n",
       "      <th>NoOfPeople</th>\n",
       "      <th>NoOfBalcony</th>\n",
       "      <th>RentPerMonth</th>\n",
       "    </tr>\n",
       "  </thead>\n",
       "  <tbody>\n",
       "    <tr>\n",
       "      <th>0</th>\n",
       "      <td>Minimum Budget Rooms</td>\n",
       "      <td>Portofino H</td>\n",
       "      <td>1 BHK</td>\n",
       "      <td>400.0</td>\n",
       "      <td>1</td>\n",
       "      <td>1</td>\n",
       "      <td>1</td>\n",
       "      <td>1100.0</td>\n",
       "    </tr>\n",
       "    <tr>\n",
       "      <th>1</th>\n",
       "      <td>Minimum Budget Rooms</td>\n",
       "      <td>Portofino H</td>\n",
       "      <td>1 BHK</td>\n",
       "      <td>450.0</td>\n",
       "      <td>1</td>\n",
       "      <td>1</td>\n",
       "      <td>1</td>\n",
       "      <td>1100.0</td>\n",
       "    </tr>\n",
       "    <tr>\n",
       "      <th>2</th>\n",
       "      <td>Minimum Budget Rooms</td>\n",
       "      <td>School Street</td>\n",
       "      <td>1 BHK</td>\n",
       "      <td>530.0</td>\n",
       "      <td>1</td>\n",
       "      <td>1</td>\n",
       "      <td>0</td>\n",
       "      <td>1166.0</td>\n",
       "    </tr>\n",
       "    <tr>\n",
       "      <th>3</th>\n",
       "      <td>Minimum Budget Rooms</td>\n",
       "      <td>Portofino B</td>\n",
       "      <td>1 BHK</td>\n",
       "      <td>400.0</td>\n",
       "      <td>1</td>\n",
       "      <td>1</td>\n",
       "      <td>0</td>\n",
       "      <td>1400.0</td>\n",
       "    </tr>\n",
       "    <tr>\n",
       "      <th>4</th>\n",
       "      <td>Minimum Budget Rooms</td>\n",
       "      <td>School Street</td>\n",
       "      <td>2 BHK</td>\n",
       "      <td>460.0</td>\n",
       "      <td>1</td>\n",
       "      <td>1</td>\n",
       "      <td>0</td>\n",
       "      <td>1500.0</td>\n",
       "    </tr>\n",
       "    <tr>\n",
       "      <th>...</th>\n",
       "      <td>...</td>\n",
       "      <td>...</td>\n",
       "      <td>...</td>\n",
       "      <td>...</td>\n",
       "      <td>...</td>\n",
       "      <td>...</td>\n",
       "      <td>...</td>\n",
       "      <td>...</td>\n",
       "    </tr>\n",
       "    <tr>\n",
       "      <th>995</th>\n",
       "      <td>Super Furnished Villa</td>\n",
       "      <td>Portofino D</td>\n",
       "      <td>4 BHK</td>\n",
       "      <td>4900.0</td>\n",
       "      <td>4</td>\n",
       "      <td>6</td>\n",
       "      <td>3</td>\n",
       "      <td>70000.0</td>\n",
       "    </tr>\n",
       "    <tr>\n",
       "      <th>996</th>\n",
       "      <td>Super Furnished Villa</td>\n",
       "      <td>Portofino B</td>\n",
       "      <td>4 BHK</td>\n",
       "      <td>3750.0</td>\n",
       "      <td>4</td>\n",
       "      <td>5</td>\n",
       "      <td>0</td>\n",
       "      <td>76000.0</td>\n",
       "    </tr>\n",
       "    <tr>\n",
       "      <th>997</th>\n",
       "      <td>Super Furnished Villa</td>\n",
       "      <td>School Street</td>\n",
       "      <td>4 BHK</td>\n",
       "      <td>5270.0</td>\n",
       "      <td>4</td>\n",
       "      <td>5</td>\n",
       "      <td>3</td>\n",
       "      <td>80000.0</td>\n",
       "    </tr>\n",
       "    <tr>\n",
       "      <th>998</th>\n",
       "      <td>Super Furnished Villa</td>\n",
       "      <td>Portofino B</td>\n",
       "      <td>6 BHK</td>\n",
       "      <td>5100.0</td>\n",
       "      <td>7</td>\n",
       "      <td>6</td>\n",
       "      <td>3</td>\n",
       "      <td>90000.0</td>\n",
       "    </tr>\n",
       "    <tr>\n",
       "      <th>999</th>\n",
       "      <td>Super Furnished Villa</td>\n",
       "      <td>Portofino B</td>\n",
       "      <td>7 BHK</td>\n",
       "      <td>6300.0</td>\n",
       "      <td>6</td>\n",
       "      <td>6</td>\n",
       "      <td>3</td>\n",
       "      <td>96000.0</td>\n",
       "    </tr>\n",
       "  </tbody>\n",
       "</table>\n",
       "<p>1000 rows × 8 columns</p>\n",
       "</div>"
      ],
      "text/plain": [
       "              BuildingType       Location   Size  AreaSqFt  NoOfBath  \\\n",
       "0     Minimum Budget Rooms    Portofino H  1 BHK     400.0         1   \n",
       "1     Minimum Budget Rooms    Portofino H  1 BHK     450.0         1   \n",
       "2     Minimum Budget Rooms  School Street  1 BHK     530.0         1   \n",
       "3     Minimum Budget Rooms    Portofino B  1 BHK     400.0         1   \n",
       "4     Minimum Budget Rooms  School Street  2 BHK     460.0         1   \n",
       "..                     ...            ...    ...       ...       ...   \n",
       "995  Super Furnished Villa    Portofino D  4 BHK    4900.0         4   \n",
       "996  Super Furnished Villa    Portofino B  4 BHK    3750.0         4   \n",
       "997  Super Furnished Villa  School Street  4 BHK    5270.0         4   \n",
       "998  Super Furnished Villa    Portofino B  6 BHK    5100.0         7   \n",
       "999  Super Furnished Villa    Portofino B  7 BHK    6300.0         6   \n",
       "\n",
       "     NoOfPeople  NoOfBalcony  RentPerMonth  \n",
       "0             1            1        1100.0  \n",
       "1             1            1        1100.0  \n",
       "2             1            0        1166.0  \n",
       "3             1            0        1400.0  \n",
       "4             1            0        1500.0  \n",
       "..          ...          ...           ...  \n",
       "995           6            3       70000.0  \n",
       "996           5            0       76000.0  \n",
       "997           5            3       80000.0  \n",
       "998           6            3       90000.0  \n",
       "999           6            3       96000.0  \n",
       "\n",
       "[1000 rows x 8 columns]"
      ]
     },
     "execution_count": 3,
     "metadata": {},
     "output_type": "execute_result"
    }
   ],
   "source": [
    "df=pd.read_csv(\"HousePrices.csv\")\n",
    "df"
   ]
  },
  {
   "cell_type": "markdown",
   "id": "109185ec",
   "metadata": {},
   "source": [
    "### Showing First Five Rows using Function head()\n",
    "using This function will show First five Rows"
   ]
  },
  {
   "cell_type": "code",
   "execution_count": 4,
   "id": "b6d11694",
   "metadata": {},
   "outputs": [
    {
     "data": {
      "text/html": [
       "<div>\n",
       "<style scoped>\n",
       "    .dataframe tbody tr th:only-of-type {\n",
       "        vertical-align: middle;\n",
       "    }\n",
       "\n",
       "    .dataframe tbody tr th {\n",
       "        vertical-align: top;\n",
       "    }\n",
       "\n",
       "    .dataframe thead th {\n",
       "        text-align: right;\n",
       "    }\n",
       "</style>\n",
       "<table border=\"1\" class=\"dataframe\">\n",
       "  <thead>\n",
       "    <tr style=\"text-align: right;\">\n",
       "      <th></th>\n",
       "      <th>BuildingType</th>\n",
       "      <th>Location</th>\n",
       "      <th>Size</th>\n",
       "      <th>AreaSqFt</th>\n",
       "      <th>NoOfBath</th>\n",
       "      <th>NoOfPeople</th>\n",
       "      <th>NoOfBalcony</th>\n",
       "      <th>RentPerMonth</th>\n",
       "    </tr>\n",
       "  </thead>\n",
       "  <tbody>\n",
       "    <tr>\n",
       "      <th>0</th>\n",
       "      <td>Minimum Budget Rooms</td>\n",
       "      <td>Portofino H</td>\n",
       "      <td>1 BHK</td>\n",
       "      <td>400.0</td>\n",
       "      <td>1</td>\n",
       "      <td>1</td>\n",
       "      <td>1</td>\n",
       "      <td>1100.0</td>\n",
       "    </tr>\n",
       "    <tr>\n",
       "      <th>1</th>\n",
       "      <td>Minimum Budget Rooms</td>\n",
       "      <td>Portofino H</td>\n",
       "      <td>1 BHK</td>\n",
       "      <td>450.0</td>\n",
       "      <td>1</td>\n",
       "      <td>1</td>\n",
       "      <td>1</td>\n",
       "      <td>1100.0</td>\n",
       "    </tr>\n",
       "    <tr>\n",
       "      <th>2</th>\n",
       "      <td>Minimum Budget Rooms</td>\n",
       "      <td>School Street</td>\n",
       "      <td>1 BHK</td>\n",
       "      <td>530.0</td>\n",
       "      <td>1</td>\n",
       "      <td>1</td>\n",
       "      <td>0</td>\n",
       "      <td>1166.0</td>\n",
       "    </tr>\n",
       "    <tr>\n",
       "      <th>3</th>\n",
       "      <td>Minimum Budget Rooms</td>\n",
       "      <td>Portofino B</td>\n",
       "      <td>1 BHK</td>\n",
       "      <td>400.0</td>\n",
       "      <td>1</td>\n",
       "      <td>1</td>\n",
       "      <td>0</td>\n",
       "      <td>1400.0</td>\n",
       "    </tr>\n",
       "    <tr>\n",
       "      <th>4</th>\n",
       "      <td>Minimum Budget Rooms</td>\n",
       "      <td>School Street</td>\n",
       "      <td>2 BHK</td>\n",
       "      <td>460.0</td>\n",
       "      <td>1</td>\n",
       "      <td>1</td>\n",
       "      <td>0</td>\n",
       "      <td>1500.0</td>\n",
       "    </tr>\n",
       "  </tbody>\n",
       "</table>\n",
       "</div>"
      ],
      "text/plain": [
       "           BuildingType       Location   Size  AreaSqFt  NoOfBath  NoOfPeople  \\\n",
       "0  Minimum Budget Rooms    Portofino H  1 BHK     400.0         1           1   \n",
       "1  Minimum Budget Rooms    Portofino H  1 BHK     450.0         1           1   \n",
       "2  Minimum Budget Rooms  School Street  1 BHK     530.0         1           1   \n",
       "3  Minimum Budget Rooms    Portofino B  1 BHK     400.0         1           1   \n",
       "4  Minimum Budget Rooms  School Street  2 BHK     460.0         1           1   \n",
       "\n",
       "   NoOfBalcony  RentPerMonth  \n",
       "0            1        1100.0  \n",
       "1            1        1100.0  \n",
       "2            0        1166.0  \n",
       "3            0        1400.0  \n",
       "4            0        1500.0  "
      ]
     },
     "execution_count": 4,
     "metadata": {},
     "output_type": "execute_result"
    }
   ],
   "source": [
    "df.head(5)"
   ]
  },
  {
   "cell_type": "markdown",
   "id": "10f00246",
   "metadata": {},
   "source": [
    "## isnull() Function using to show the NULL values in Datasets\n",
    "so in This HousePrice Datasets There are 0 null Values"
   ]
  },
  {
   "cell_type": "code",
   "execution_count": 5,
   "id": "f1fdf62a",
   "metadata": {},
   "outputs": [
    {
     "data": {
      "text/plain": [
       "BuildingType    0\n",
       "Location        0\n",
       "Size            0\n",
       "AreaSqFt        0\n",
       "NoOfBath        0\n",
       "NoOfPeople      0\n",
       "NoOfBalcony     0\n",
       "RentPerMonth    0\n",
       "dtype: int64"
      ]
     },
     "execution_count": 5,
     "metadata": {},
     "output_type": "execute_result"
    }
   ],
   "source": [
    "df.isnull().sum()"
   ]
  },
  {
   "cell_type": "markdown",
   "id": "1bfd5fca",
   "metadata": {},
   "source": [
    "### describe() used for just describing the datasets."
   ]
  },
  {
   "cell_type": "code",
   "execution_count": 6,
   "id": "2dd451a0",
   "metadata": {},
   "outputs": [
    {
     "data": {
      "text/html": [
       "<div>\n",
       "<style scoped>\n",
       "    .dataframe tbody tr th:only-of-type {\n",
       "        vertical-align: middle;\n",
       "    }\n",
       "\n",
       "    .dataframe tbody tr th {\n",
       "        vertical-align: top;\n",
       "    }\n",
       "\n",
       "    .dataframe thead th {\n",
       "        text-align: right;\n",
       "    }\n",
       "</style>\n",
       "<table border=\"1\" class=\"dataframe\">\n",
       "  <thead>\n",
       "    <tr style=\"text-align: right;\">\n",
       "      <th></th>\n",
       "      <th>count</th>\n",
       "      <th>mean</th>\n",
       "      <th>std</th>\n",
       "      <th>min</th>\n",
       "      <th>25%</th>\n",
       "      <th>50%</th>\n",
       "      <th>75%</th>\n",
       "      <th>max</th>\n",
       "    </tr>\n",
       "  </thead>\n",
       "  <tbody>\n",
       "    <tr>\n",
       "      <th>AreaSqFt</th>\n",
       "      <td>1000.0</td>\n",
       "      <td>1548.27001</td>\n",
       "      <td>1345.141175</td>\n",
       "      <td>375.0</td>\n",
       "      <td>1090.0</td>\n",
       "      <td>1270.0</td>\n",
       "      <td>1664.25</td>\n",
       "      <td>35000.0</td>\n",
       "    </tr>\n",
       "    <tr>\n",
       "      <th>NoOfBath</th>\n",
       "      <td>1000.0</td>\n",
       "      <td>2.66100</td>\n",
       "      <td>1.247251</td>\n",
       "      <td>1.0</td>\n",
       "      <td>2.0</td>\n",
       "      <td>2.0</td>\n",
       "      <td>3.00</td>\n",
       "      <td>11.0</td>\n",
       "    </tr>\n",
       "    <tr>\n",
       "      <th>NoOfPeople</th>\n",
       "      <td>1000.0</td>\n",
       "      <td>2.16800</td>\n",
       "      <td>0.959529</td>\n",
       "      <td>1.0</td>\n",
       "      <td>2.0</td>\n",
       "      <td>2.0</td>\n",
       "      <td>2.00</td>\n",
       "      <td>6.0</td>\n",
       "    </tr>\n",
       "    <tr>\n",
       "      <th>NoOfBalcony</th>\n",
       "      <td>1000.0</td>\n",
       "      <td>1.54400</td>\n",
       "      <td>0.838312</td>\n",
       "      <td>0.0</td>\n",
       "      <td>1.0</td>\n",
       "      <td>2.0</td>\n",
       "      <td>2.00</td>\n",
       "      <td>3.0</td>\n",
       "    </tr>\n",
       "    <tr>\n",
       "      <th>RentPerMonth</th>\n",
       "      <td>1000.0</td>\n",
       "      <td>10476.63350</td>\n",
       "      <td>10509.508971</td>\n",
       "      <td>1100.0</td>\n",
       "      <td>4890.5</td>\n",
       "      <td>7000.0</td>\n",
       "      <td>11925.00</td>\n",
       "      <td>96000.0</td>\n",
       "    </tr>\n",
       "  </tbody>\n",
       "</table>\n",
       "</div>"
      ],
      "text/plain": [
       "               count         mean           std     min     25%     50%  \\\n",
       "AreaSqFt      1000.0   1548.27001   1345.141175   375.0  1090.0  1270.0   \n",
       "NoOfBath      1000.0      2.66100      1.247251     1.0     2.0     2.0   \n",
       "NoOfPeople    1000.0      2.16800      0.959529     1.0     2.0     2.0   \n",
       "NoOfBalcony   1000.0      1.54400      0.838312     0.0     1.0     2.0   \n",
       "RentPerMonth  1000.0  10476.63350  10509.508971  1100.0  4890.5  7000.0   \n",
       "\n",
       "                   75%      max  \n",
       "AreaSqFt       1664.25  35000.0  \n",
       "NoOfBath          3.00     11.0  \n",
       "NoOfPeople        2.00      6.0  \n",
       "NoOfBalcony       2.00      3.0  \n",
       "RentPerMonth  11925.00  96000.0  "
      ]
     },
     "execution_count": 6,
     "metadata": {},
     "output_type": "execute_result"
    }
   ],
   "source": [
    "df.describe().transpose()"
   ]
  },
  {
   "cell_type": "code",
   "execution_count": 7,
   "id": "b2659d56",
   "metadata": {},
   "outputs": [
    {
     "data": {
      "text/plain": [
       "(1000, 8)"
      ]
     },
     "execution_count": 7,
     "metadata": {},
     "output_type": "execute_result"
    }
   ],
   "source": [
    "# shape of the data\n",
    "df.shape"
   ]
  },
  {
   "cell_type": "markdown",
   "id": "3bbe29af",
   "metadata": {},
   "source": [
    "### nunuque() are using for just count the number of variables in datasets"
   ]
  },
  {
   "cell_type": "code",
   "execution_count": 8,
   "id": "4705562e",
   "metadata": {},
   "outputs": [
    {
     "data": {
      "text/plain": [
       "BuildingType     10\n",
       "Location         11\n",
       "Size             10\n",
       "AreaSqFt        495\n",
       "NoOfBath         10\n",
       "NoOfPeople        6\n",
       "NoOfBalcony       4\n",
       "RentPerMonth    387\n",
       "dtype: int64"
      ]
     },
     "execution_count": 8,
     "metadata": {},
     "output_type": "execute_result"
    }
   ],
   "source": [
    "df.nunique()"
   ]
  },
  {
   "cell_type": "code",
   "execution_count": 9,
   "id": "422c87a5",
   "metadata": {},
   "outputs": [
    {
     "data": {
      "text/plain": [
       "10"
      ]
     },
     "execution_count": 9,
     "metadata": {},
     "output_type": "execute_result"
    }
   ],
   "source": [
    "df['Size'].nunique()"
   ]
  },
  {
   "cell_type": "code",
   "execution_count": 10,
   "id": "9bb4ece0",
   "metadata": {},
   "outputs": [
    {
     "data": {
      "text/html": [
       "<div>\n",
       "<style scoped>\n",
       "    .dataframe tbody tr th:only-of-type {\n",
       "        vertical-align: middle;\n",
       "    }\n",
       "\n",
       "    .dataframe tbody tr th {\n",
       "        vertical-align: top;\n",
       "    }\n",
       "\n",
       "    .dataframe thead th {\n",
       "        text-align: right;\n",
       "    }\n",
       "</style>\n",
       "<table border=\"1\" class=\"dataframe\">\n",
       "  <thead>\n",
       "    <tr style=\"text-align: right;\">\n",
       "      <th></th>\n",
       "      <th>BuildingType</th>\n",
       "      <th>Location</th>\n",
       "      <th>Size</th>\n",
       "      <th>NoOfBath</th>\n",
       "      <th>NoOfPeople</th>\n",
       "      <th>NoOfBalcony</th>\n",
       "      <th>RentPerMonth</th>\n",
       "    </tr>\n",
       "  </thead>\n",
       "  <tbody>\n",
       "    <tr>\n",
       "      <th>0</th>\n",
       "      <td>Minimum Budget Rooms</td>\n",
       "      <td>Portofino H</td>\n",
       "      <td>1 BHK</td>\n",
       "      <td>1</td>\n",
       "      <td>1</td>\n",
       "      <td>1</td>\n",
       "      <td>1100.0</td>\n",
       "    </tr>\n",
       "    <tr>\n",
       "      <th>1</th>\n",
       "      <td>Minimum Budget Rooms</td>\n",
       "      <td>Portofino H</td>\n",
       "      <td>1 BHK</td>\n",
       "      <td>1</td>\n",
       "      <td>1</td>\n",
       "      <td>1</td>\n",
       "      <td>1100.0</td>\n",
       "    </tr>\n",
       "    <tr>\n",
       "      <th>2</th>\n",
       "      <td>Minimum Budget Rooms</td>\n",
       "      <td>School Street</td>\n",
       "      <td>1 BHK</td>\n",
       "      <td>1</td>\n",
       "      <td>1</td>\n",
       "      <td>0</td>\n",
       "      <td>1166.0</td>\n",
       "    </tr>\n",
       "    <tr>\n",
       "      <th>3</th>\n",
       "      <td>Minimum Budget Rooms</td>\n",
       "      <td>Portofino B</td>\n",
       "      <td>1 BHK</td>\n",
       "      <td>1</td>\n",
       "      <td>1</td>\n",
       "      <td>0</td>\n",
       "      <td>1400.0</td>\n",
       "    </tr>\n",
       "    <tr>\n",
       "      <th>4</th>\n",
       "      <td>Minimum Budget Rooms</td>\n",
       "      <td>School Street</td>\n",
       "      <td>2 BHK</td>\n",
       "      <td>1</td>\n",
       "      <td>1</td>\n",
       "      <td>0</td>\n",
       "      <td>1500.0</td>\n",
       "    </tr>\n",
       "    <tr>\n",
       "      <th>...</th>\n",
       "      <td>...</td>\n",
       "      <td>...</td>\n",
       "      <td>...</td>\n",
       "      <td>...</td>\n",
       "      <td>...</td>\n",
       "      <td>...</td>\n",
       "      <td>...</td>\n",
       "    </tr>\n",
       "    <tr>\n",
       "      <th>995</th>\n",
       "      <td>Super Furnished Villa</td>\n",
       "      <td>Portofino D</td>\n",
       "      <td>4 BHK</td>\n",
       "      <td>4</td>\n",
       "      <td>6</td>\n",
       "      <td>3</td>\n",
       "      <td>70000.0</td>\n",
       "    </tr>\n",
       "    <tr>\n",
       "      <th>996</th>\n",
       "      <td>Super Furnished Villa</td>\n",
       "      <td>Portofino B</td>\n",
       "      <td>4 BHK</td>\n",
       "      <td>4</td>\n",
       "      <td>5</td>\n",
       "      <td>0</td>\n",
       "      <td>76000.0</td>\n",
       "    </tr>\n",
       "    <tr>\n",
       "      <th>997</th>\n",
       "      <td>Super Furnished Villa</td>\n",
       "      <td>School Street</td>\n",
       "      <td>4 BHK</td>\n",
       "      <td>4</td>\n",
       "      <td>5</td>\n",
       "      <td>3</td>\n",
       "      <td>80000.0</td>\n",
       "    </tr>\n",
       "    <tr>\n",
       "      <th>998</th>\n",
       "      <td>Super Furnished Villa</td>\n",
       "      <td>Portofino B</td>\n",
       "      <td>6 BHK</td>\n",
       "      <td>7</td>\n",
       "      <td>6</td>\n",
       "      <td>3</td>\n",
       "      <td>90000.0</td>\n",
       "    </tr>\n",
       "    <tr>\n",
       "      <th>999</th>\n",
       "      <td>Super Furnished Villa</td>\n",
       "      <td>Portofino B</td>\n",
       "      <td>7 BHK</td>\n",
       "      <td>6</td>\n",
       "      <td>6</td>\n",
       "      <td>3</td>\n",
       "      <td>96000.0</td>\n",
       "    </tr>\n",
       "  </tbody>\n",
       "</table>\n",
       "<p>1000 rows × 7 columns</p>\n",
       "</div>"
      ],
      "text/plain": [
       "              BuildingType       Location   Size  NoOfBath  NoOfPeople  \\\n",
       "0     Minimum Budget Rooms    Portofino H  1 BHK         1           1   \n",
       "1     Minimum Budget Rooms    Portofino H  1 BHK         1           1   \n",
       "2     Minimum Budget Rooms  School Street  1 BHK         1           1   \n",
       "3     Minimum Budget Rooms    Portofino B  1 BHK         1           1   \n",
       "4     Minimum Budget Rooms  School Street  2 BHK         1           1   \n",
       "..                     ...            ...    ...       ...         ...   \n",
       "995  Super Furnished Villa    Portofino D  4 BHK         4           6   \n",
       "996  Super Furnished Villa    Portofino B  4 BHK         4           5   \n",
       "997  Super Furnished Villa  School Street  4 BHK         4           5   \n",
       "998  Super Furnished Villa    Portofino B  6 BHK         7           6   \n",
       "999  Super Furnished Villa    Portofino B  7 BHK         6           6   \n",
       "\n",
       "     NoOfBalcony  RentPerMonth  \n",
       "0              1        1100.0  \n",
       "1              1        1100.0  \n",
       "2              0        1166.0  \n",
       "3              0        1400.0  \n",
       "4              0        1500.0  \n",
       "..           ...           ...  \n",
       "995            3       70000.0  \n",
       "996            0       76000.0  \n",
       "997            3       80000.0  \n",
       "998            3       90000.0  \n",
       "999            3       96000.0  \n",
       "\n",
       "[1000 rows x 7 columns]"
      ]
     },
     "execution_count": 10,
     "metadata": {},
     "output_type": "execute_result"
    }
   ],
   "source": [
    "remove=df.drop(['AreaSqFt'], axis=1)\n",
    "remove"
   ]
  },
  {
   "cell_type": "markdown",
   "id": "71511265",
   "metadata": {},
   "source": [
    "### value counting by different columns"
   ]
  },
  {
   "cell_type": "code",
   "execution_count": 11,
   "id": "a2848a52",
   "metadata": {},
   "outputs": [
    {
     "data": {
      "text/plain": [
       "Location\n",
       "Clubview Road    213\n",
       "Portofino B      173\n",
       "School Street    138\n",
       "Portofino D      105\n",
       "Portofino C      103\n",
       "Portofino A       95\n",
       "Portofino H       62\n",
       "Portofino E       54\n",
       "Portofino G       26\n",
       "Portofino F       22\n",
       "Starter Homes      9\n",
       "dtype: int64"
      ]
     },
     "execution_count": 11,
     "metadata": {},
     "output_type": "execute_result"
    }
   ],
   "source": [
    "df.value_counts(\"Size\")\n",
    "df.value_counts(\"Location\")"
   ]
  },
  {
   "cell_type": "markdown",
   "id": "f6eb225b",
   "metadata": {},
   "source": [
    "### This function  will remove the Duplicates nunber from the datasets"
   ]
  },
  {
   "cell_type": "code",
   "execution_count": 12,
   "id": "842eff82",
   "metadata": {},
   "outputs": [
    {
     "data": {
      "text/html": [
       "<div>\n",
       "<style scoped>\n",
       "    .dataframe tbody tr th:only-of-type {\n",
       "        vertical-align: middle;\n",
       "    }\n",
       "\n",
       "    .dataframe tbody tr th {\n",
       "        vertical-align: top;\n",
       "    }\n",
       "\n",
       "    .dataframe thead th {\n",
       "        text-align: right;\n",
       "    }\n",
       "</style>\n",
       "<table border=\"1\" class=\"dataframe\">\n",
       "  <thead>\n",
       "    <tr style=\"text-align: right;\">\n",
       "      <th></th>\n",
       "      <th>BuildingType</th>\n",
       "      <th>Location</th>\n",
       "      <th>Size</th>\n",
       "      <th>AreaSqFt</th>\n",
       "      <th>NoOfBath</th>\n",
       "      <th>NoOfPeople</th>\n",
       "      <th>NoOfBalcony</th>\n",
       "      <th>RentPerMonth</th>\n",
       "    </tr>\n",
       "  </thead>\n",
       "  <tbody>\n",
       "    <tr>\n",
       "      <th>0</th>\n",
       "      <td>Minimum Budget Rooms</td>\n",
       "      <td>Portofino H</td>\n",
       "      <td>1 BHK</td>\n",
       "      <td>400.0</td>\n",
       "      <td>1</td>\n",
       "      <td>1</td>\n",
       "      <td>1</td>\n",
       "      <td>1100.0</td>\n",
       "    </tr>\n",
       "    <tr>\n",
       "      <th>4</th>\n",
       "      <td>Minimum Budget Rooms</td>\n",
       "      <td>School Street</td>\n",
       "      <td>2 BHK</td>\n",
       "      <td>460.0</td>\n",
       "      <td>1</td>\n",
       "      <td>1</td>\n",
       "      <td>0</td>\n",
       "      <td>1500.0</td>\n",
       "    </tr>\n",
       "    <tr>\n",
       "      <th>34</th>\n",
       "      <td>Semi Furnished Single Room</td>\n",
       "      <td>Portofino D</td>\n",
       "      <td>1 RK</td>\n",
       "      <td>510.0</td>\n",
       "      <td>1</td>\n",
       "      <td>1</td>\n",
       "      <td>0</td>\n",
       "      <td>2525.0</td>\n",
       "    </tr>\n",
       "    <tr>\n",
       "      <th>35</th>\n",
       "      <td>Semi Furnished Single Room</td>\n",
       "      <td>School Street</td>\n",
       "      <td>3 BHK</td>\n",
       "      <td>1033.0</td>\n",
       "      <td>2</td>\n",
       "      <td>1</td>\n",
       "      <td>2</td>\n",
       "      <td>2553.0</td>\n",
       "    </tr>\n",
       "    <tr>\n",
       "      <th>304</th>\n",
       "      <td>Semi Furnished Flat</td>\n",
       "      <td>Portofino H</td>\n",
       "      <td>4 BHK</td>\n",
       "      <td>1600.0</td>\n",
       "      <td>4</td>\n",
       "      <td>2</td>\n",
       "      <td>0</td>\n",
       "      <td>5280.0</td>\n",
       "    </tr>\n",
       "    <tr>\n",
       "      <th>455</th>\n",
       "      <td>Semi Furnished Single Room</td>\n",
       "      <td>Portofino A</td>\n",
       "      <td>5 BHK</td>\n",
       "      <td>500.0</td>\n",
       "      <td>3</td>\n",
       "      <td>2</td>\n",
       "      <td>2</td>\n",
       "      <td>6500.0</td>\n",
       "    </tr>\n",
       "    <tr>\n",
       "      <th>460</th>\n",
       "      <td>Semi Furnished Single Room</td>\n",
       "      <td>Portofino B</td>\n",
       "      <td>6 BHK</td>\n",
       "      <td>600.0</td>\n",
       "      <td>4</td>\n",
       "      <td>2</td>\n",
       "      <td>3</td>\n",
       "      <td>6500.0</td>\n",
       "    </tr>\n",
       "    <tr>\n",
       "      <th>515</th>\n",
       "      <td>Fully Furnished Single Room</td>\n",
       "      <td>Portofino D</td>\n",
       "      <td>8 BHK</td>\n",
       "      <td>600.0</td>\n",
       "      <td>4</td>\n",
       "      <td>2</td>\n",
       "      <td>1</td>\n",
       "      <td>7200.0</td>\n",
       "    </tr>\n",
       "    <tr>\n",
       "      <th>739</th>\n",
       "      <td>Fully Furnished Single Room</td>\n",
       "      <td>Portofino D</td>\n",
       "      <td>7 BHK</td>\n",
       "      <td>950.0</td>\n",
       "      <td>7</td>\n",
       "      <td>2</td>\n",
       "      <td>0</td>\n",
       "      <td>11500.0</td>\n",
       "    </tr>\n",
       "    <tr>\n",
       "      <th>877</th>\n",
       "      <td>Semi Furnished Flat</td>\n",
       "      <td>Portofino C</td>\n",
       "      <td>9 BHK</td>\n",
       "      <td>600.0</td>\n",
       "      <td>9</td>\n",
       "      <td>2</td>\n",
       "      <td>3</td>\n",
       "      <td>19000.0</td>\n",
       "    </tr>\n",
       "  </tbody>\n",
       "</table>\n",
       "</div>"
      ],
      "text/plain": [
       "                    BuildingType       Location   Size  AreaSqFt  NoOfBath  \\\n",
       "0           Minimum Budget Rooms    Portofino H  1 BHK     400.0         1   \n",
       "4           Minimum Budget Rooms  School Street  2 BHK     460.0         1   \n",
       "34    Semi Furnished Single Room    Portofino D   1 RK     510.0         1   \n",
       "35    Semi Furnished Single Room  School Street  3 BHK    1033.0         2   \n",
       "304          Semi Furnished Flat    Portofino H  4 BHK    1600.0         4   \n",
       "455   Semi Furnished Single Room    Portofino A  5 BHK     500.0         3   \n",
       "460   Semi Furnished Single Room    Portofino B  6 BHK     600.0         4   \n",
       "515  Fully Furnished Single Room    Portofino D  8 BHK     600.0         4   \n",
       "739  Fully Furnished Single Room    Portofino D  7 BHK     950.0         7   \n",
       "877          Semi Furnished Flat    Portofino C  9 BHK     600.0         9   \n",
       "\n",
       "     NoOfPeople  NoOfBalcony  RentPerMonth  \n",
       "0             1            1        1100.0  \n",
       "4             1            0        1500.0  \n",
       "34            1            0        2525.0  \n",
       "35            1            2        2553.0  \n",
       "304           2            0        5280.0  \n",
       "455           2            2        6500.0  \n",
       "460           2            3        6500.0  \n",
       "515           2            1        7200.0  \n",
       "739           2            0       11500.0  \n",
       "877           2            3       19000.0  "
      ]
     },
     "execution_count": 12,
     "metadata": {},
     "output_type": "execute_result"
    }
   ],
   "source": [
    "data = df.drop_duplicates(subset =\"Size\",)\n",
    "data"
   ]
  },
  {
   "cell_type": "markdown",
   "id": "642a5a0e",
   "metadata": {},
   "source": [
    "### info() Function will Shows The information about The datsets"
   ]
  },
  {
   "cell_type": "code",
   "execution_count": 13,
   "id": "3b01e5d3",
   "metadata": {},
   "outputs": [
    {
     "name": "stdout",
     "output_type": "stream",
     "text": [
      "<class 'pandas.core.frame.DataFrame'>\n",
      "RangeIndex: 1000 entries, 0 to 999\n",
      "Data columns (total 8 columns):\n",
      " #   Column        Non-Null Count  Dtype  \n",
      "---  ------        --------------  -----  \n",
      " 0   BuildingType  1000 non-null   object \n",
      " 1   Location      1000 non-null   object \n",
      " 2   Size          1000 non-null   object \n",
      " 3   AreaSqFt      1000 non-null   float64\n",
      " 4   NoOfBath      1000 non-null   int64  \n",
      " 5   NoOfPeople    1000 non-null   int64  \n",
      " 6   NoOfBalcony   1000 non-null   int64  \n",
      " 7   RentPerMonth  1000 non-null   float64\n",
      "dtypes: float64(2), int64(3), object(3)\n",
      "memory usage: 62.6+ KB\n"
     ]
    }
   ],
   "source": [
    "df.info()"
   ]
  },
  {
   "cell_type": "code",
   "execution_count": 14,
   "id": "7b54bb19",
   "metadata": {},
   "outputs": [
    {
     "data": {
      "text/plain": [
       "8000"
      ]
     },
     "execution_count": 14,
     "metadata": {},
     "output_type": "execute_result"
    }
   ],
   "source": [
    "# how many total missing values do we have\n",
    "total_cells = np.product(df.shape)\n",
    "total_cells"
   ]
  },
  {
   "cell_type": "markdown",
   "id": "ce150108",
   "metadata": {},
   "source": [
    "## VISUALIZATION FORMAT\n",
    "\n",
    "Correlogram is a graph of correlation matrix. It is very useful to highlight the most correlated variables in a data table. In this plot, correlation coefficients is colored according to the value"
   ]
  },
  {
   "cell_type": "code",
   "execution_count": 15,
   "id": "2d2935b2",
   "metadata": {},
   "outputs": [],
   "source": [
    "# Relationship analysis\n",
    "\n",
    "corelation=remove.corr()"
   ]
  },
  {
   "cell_type": "code",
   "execution_count": 16,
   "id": "3d21691a",
   "metadata": {},
   "outputs": [
    {
     "data": {
      "text/plain": [
       "<AxesSubplot:>"
      ]
     },
     "execution_count": 16,
     "metadata": {},
     "output_type": "execute_result"
    },
    {
     "data": {
      "image/png": "[encoded data removed]",
      "text/plain": [
       "<Figure size 432x288 with 2 Axes>"
      ]
     },
     "metadata": {
      "needs_background": "light"
     },
     "output_type": "display_data"
    }
   ],
   "source": [
    "sns.heatmap(corelation, xticklabels=corelation.columns,\n",
    "           yticklabels=corelation.columns, annot=True)"
   ]
  },
  {
   "cell_type": "markdown",
   "id": "7d18f3ac",
   "metadata": {},
   "source": [
    "### Using Bar plot\n",
    "Showing Relationship Between \"Location\" and \"Rent\"\n",
    "in visual effect"
   ]
  },
  {
   "cell_type": "code",
   "execution_count": 17,
   "id": "3b94180f",
   "metadata": {},
   "outputs": [
    {
     "data": {
      "image/png": "[encoded data removed]",
      "text/plain": [
       "<Figure size 864x432 with 1 Axes>"
      ]
     },
     "metadata": {
      "needs_background": "light"
     },
     "output_type": "display_data"
    }
   ],
   "source": [
    "plt.figure(figsize=(12,6))\n",
    "sns.barplot(x='Location', y='RentPerMonth', data=df, )\n",
    "plt.show()"
   ]
  },
  {
   "cell_type": "markdown",
   "id": "33de0fad",
   "metadata": {},
   "source": [
    "### Use a scatter plot to determine whether or not,\n",
    "two variables have a relationship or correlation"
   ]
  },
  {
   "cell_type": "code",
   "execution_count": 18,
   "id": "8aba5067",
   "metadata": {},
   "outputs": [
    {
     "data": {
      "image/png": "[encoded data removed]",
      "text/plain": [
       "<Figure size 432x288 with 1 Axes>"
      ]
     },
     "metadata": {
      "needs_background": "light"
     },
     "output_type": "display_data"
    }
   ],
   "source": [
    "sns.scatterplot(x='Location', y='RentPerMonth',\n",
    "                hue='Size', data=df,)\n",
    "  \n",
    "# Placing Legend outside the Figure\n",
    "plt.legend(bbox_to_anchor=(1, 1), loc=2)\n",
    "  \n",
    "plt.show()"
   ]
  },
  {
   "cell_type": "markdown",
   "id": "e4ddd907",
   "metadata": {},
   "source": [
    "## Pair plot\n",
    "Is used to understand the best set of features to explain a relationship between two variables or to form the most separated clusters"
   ]
  },
  {
   "cell_type": "code",
   "execution_count": 19,
   "id": "8728b280",
   "metadata": {},
   "outputs": [
    {
     "data": {
      "text/plain": [
       "<seaborn.axisgrid.PairGrid at 0x23c3f7dd940>"
      ]
     },
     "execution_count": 19,
     "metadata": {},
     "output_type": "execute_result"
    },
    {
     "data": {
      "image/png": "[encoded data removed]",
      "text/plain": [
       "<Figure size 640.75x576 with 20 Axes>"
      ]
     },
     "metadata": {
      "needs_background": "light"
     },
     "output_type": "display_data"
    }
   ],
   "source": [
    "sns.pairplot(df.drop(['NoOfBalcony'], axis = 1), \n",
    "             hue='Size', height=2)"
   ]
  },
  {
   "cell_type": "code",
   "execution_count": 20,
   "id": "ba422164",
   "metadata": {},
   "outputs": [
    {
     "data": {
      "text/html": [
       "<div>\n",
       "<style scoped>\n",
       "    .dataframe tbody tr th:only-of-type {\n",
       "        vertical-align: middle;\n",
       "    }\n",
       "\n",
       "    .dataframe tbody tr th {\n",
       "        vertical-align: top;\n",
       "    }\n",
       "\n",
       "    .dataframe thead th {\n",
       "        text-align: right;\n",
       "    }\n",
       "</style>\n",
       "<table border=\"1\" class=\"dataframe\">\n",
       "  <thead>\n",
       "    <tr style=\"text-align: right;\">\n",
       "      <th></th>\n",
       "      <th>BuildingType</th>\n",
       "      <th>Location</th>\n",
       "      <th>Size</th>\n",
       "      <th>AreaSqFt</th>\n",
       "      <th>NoOfBath</th>\n",
       "      <th>NoOfPeople</th>\n",
       "      <th>NoOfBalcony</th>\n",
       "      <th>RentPerMonth</th>\n",
       "    </tr>\n",
       "  </thead>\n",
       "  <tbody>\n",
       "    <tr>\n",
       "      <th>0</th>\n",
       "      <td>Minimum Budget Rooms</td>\n",
       "      <td>Portofino H</td>\n",
       "      <td>1 BHK</td>\n",
       "      <td>400.0</td>\n",
       "      <td>1</td>\n",
       "      <td>1</td>\n",
       "      <td>1</td>\n",
       "      <td>1100.0</td>\n",
       "    </tr>\n",
       "    <tr>\n",
       "      <th>1</th>\n",
       "      <td>Minimum Budget Rooms</td>\n",
       "      <td>Portofino H</td>\n",
       "      <td>1 BHK</td>\n",
       "      <td>450.0</td>\n",
       "      <td>1</td>\n",
       "      <td>1</td>\n",
       "      <td>1</td>\n",
       "      <td>1100.0</td>\n",
       "    </tr>\n",
       "    <tr>\n",
       "      <th>2</th>\n",
       "      <td>Minimum Budget Rooms</td>\n",
       "      <td>School Street</td>\n",
       "      <td>1 BHK</td>\n",
       "      <td>530.0</td>\n",
       "      <td>1</td>\n",
       "      <td>1</td>\n",
       "      <td>0</td>\n",
       "      <td>1166.0</td>\n",
       "    </tr>\n",
       "    <tr>\n",
       "      <th>3</th>\n",
       "      <td>Minimum Budget Rooms</td>\n",
       "      <td>Portofino B</td>\n",
       "      <td>1 BHK</td>\n",
       "      <td>400.0</td>\n",
       "      <td>1</td>\n",
       "      <td>1</td>\n",
       "      <td>0</td>\n",
       "      <td>1400.0</td>\n",
       "    </tr>\n",
       "    <tr>\n",
       "      <th>4</th>\n",
       "      <td>Minimum Budget Rooms</td>\n",
       "      <td>School Street</td>\n",
       "      <td>2 BHK</td>\n",
       "      <td>460.0</td>\n",
       "      <td>1</td>\n",
       "      <td>1</td>\n",
       "      <td>0</td>\n",
       "      <td>1500.0</td>\n",
       "    </tr>\n",
       "  </tbody>\n",
       "</table>\n",
       "</div>"
      ],
      "text/plain": [
       "           BuildingType       Location   Size  AreaSqFt  NoOfBath  NoOfPeople  \\\n",
       "0  Minimum Budget Rooms    Portofino H  1 BHK     400.0         1           1   \n",
       "1  Minimum Budget Rooms    Portofino H  1 BHK     450.0         1           1   \n",
       "2  Minimum Budget Rooms  School Street  1 BHK     530.0         1           1   \n",
       "3  Minimum Budget Rooms    Portofino B  1 BHK     400.0         1           1   \n",
       "4  Minimum Budget Rooms  School Street  2 BHK     460.0         1           1   \n",
       "\n",
       "   NoOfBalcony  RentPerMonth  \n",
       "0            1        1100.0  \n",
       "1            1        1100.0  \n",
       "2            0        1166.0  \n",
       "3            0        1400.0  \n",
       "4            0        1500.0  "
      ]
     },
     "execution_count": 20,
     "metadata": {},
     "output_type": "execute_result"
    }
   ],
   "source": [
    "df.head(5)"
   ]
  },
  {
   "cell_type": "code",
   "execution_count": 21,
   "id": "e92362aa",
   "metadata": {},
   "outputs": [
    {
     "data": {
      "text/plain": [
       "<Figure size 1800x360 with 0 Axes>"
      ]
     },
     "metadata": {},
     "output_type": "display_data"
    },
    {
     "data": {
      "image/png": "[encoded data removed]",
      "text/plain": [
       "<Figure size 530.25x360 with 1 Axes>"
      ]
     },
     "metadata": {
      "needs_background": "light"
     },
     "output_type": "display_data"
    }
   ],
   "source": [
    "plt.figure(figsize=(25,5))\n",
    "sns.relplot(x='Location', y='RentPerMonth', hue='BuildingType', data=df)\n",
    "plt.show()"
   ]
  },
  {
   "cell_type": "code",
   "execution_count": 22,
   "id": "b62c6f9c",
   "metadata": {},
   "outputs": [
    {
     "data": {
      "text/plain": [
       "<AxesSubplot:xlabel='RentPerMonth', ylabel='Density'>"
      ]
     },
     "execution_count": 22,
     "metadata": {},
     "output_type": "execute_result"
    },
    {
     "data": {
      "image/png": "[encoded data removed]",
      "text/plain": [
       "<Figure size 432x288 with 1 Axes>"
      ]
     },
     "metadata": {
      "needs_background": "light"
     },
     "output_type": "display_data"
    }
   ],
   "source": [
    "sns.distplot(df['RentPerMonth'], bins=5)"
   ]
  },
  {
   "cell_type": "code",
   "execution_count": 23,
   "id": "13b49d59",
   "metadata": {},
   "outputs": [
    {
     "data": {
      "text/plain": [
       "<seaborn.axisgrid.FacetGrid at 0x23c41a655b0>"
      ]
     },
     "execution_count": 23,
     "metadata": {},
     "output_type": "execute_result"
    },
    {
     "data": {
      "image/png": "[encoded data removed]",
      "text/plain": [
       "<Figure size 360x360 with 1 Axes>"
      ]
     },
     "metadata": {
      "needs_background": "light"
     },
     "output_type": "display_data"
    }
   ],
   "source": [
    "sns.catplot(x='RentPerMonth',y='Size', kind='box', data=remove)"
   ]
  },
  {
   "cell_type": "code",
   "execution_count": 24,
   "id": "c7d79a62",
   "metadata": {},
   "outputs": [],
   "source": [
    "import numpy as np\n",
    "from sklearn.model_selection import train_test_split"
   ]
  },
  {
   "cell_type": "code",
   "execution_count": 25,
   "id": "84da2303",
   "metadata": {},
   "outputs": [
    {
     "data": {
      "text/html": [
       "<div>\n",
       "<style scoped>\n",
       "    .dataframe tbody tr th:only-of-type {\n",
       "        vertical-align: middle;\n",
       "    }\n",
       "\n",
       "    .dataframe tbody tr th {\n",
       "        vertical-align: top;\n",
       "    }\n",
       "\n",
       "    .dataframe thead th {\n",
       "        text-align: right;\n",
       "    }\n",
       "</style>\n",
       "<table border=\"1\" class=\"dataframe\">\n",
       "  <thead>\n",
       "    <tr style=\"text-align: right;\">\n",
       "      <th></th>\n",
       "      <th>BuildingType</th>\n",
       "      <th>Location</th>\n",
       "      <th>Size</th>\n",
       "      <th>AreaSqFt</th>\n",
       "      <th>NoOfBath</th>\n",
       "      <th>NoOfPeople</th>\n",
       "      <th>NoOfBalcony</th>\n",
       "      <th>RentPerMonth</th>\n",
       "    </tr>\n",
       "  </thead>\n",
       "  <tbody>\n",
       "    <tr>\n",
       "      <th>0</th>\n",
       "      <td>Minimum Budget Rooms</td>\n",
       "      <td>Portofino H</td>\n",
       "      <td>1 BHK</td>\n",
       "      <td>400.0</td>\n",
       "      <td>1</td>\n",
       "      <td>1</td>\n",
       "      <td>1</td>\n",
       "      <td>1100.0</td>\n",
       "    </tr>\n",
       "    <tr>\n",
       "      <th>1</th>\n",
       "      <td>Minimum Budget Rooms</td>\n",
       "      <td>Portofino H</td>\n",
       "      <td>1 BHK</td>\n",
       "      <td>450.0</td>\n",
       "      <td>1</td>\n",
       "      <td>1</td>\n",
       "      <td>1</td>\n",
       "      <td>1100.0</td>\n",
       "    </tr>\n",
       "    <tr>\n",
       "      <th>2</th>\n",
       "      <td>Minimum Budget Rooms</td>\n",
       "      <td>School Street</td>\n",
       "      <td>1 BHK</td>\n",
       "      <td>530.0</td>\n",
       "      <td>1</td>\n",
       "      <td>1</td>\n",
       "      <td>0</td>\n",
       "      <td>1166.0</td>\n",
       "    </tr>\n",
       "    <tr>\n",
       "      <th>3</th>\n",
       "      <td>Minimum Budget Rooms</td>\n",
       "      <td>Portofino B</td>\n",
       "      <td>1 BHK</td>\n",
       "      <td>400.0</td>\n",
       "      <td>1</td>\n",
       "      <td>1</td>\n",
       "      <td>0</td>\n",
       "      <td>1400.0</td>\n",
       "    </tr>\n",
       "    <tr>\n",
       "      <th>4</th>\n",
       "      <td>Minimum Budget Rooms</td>\n",
       "      <td>School Street</td>\n",
       "      <td>2 BHK</td>\n",
       "      <td>460.0</td>\n",
       "      <td>1</td>\n",
       "      <td>1</td>\n",
       "      <td>0</td>\n",
       "      <td>1500.0</td>\n",
       "    </tr>\n",
       "  </tbody>\n",
       "</table>\n",
       "</div>"
      ],
      "text/plain": [
       "           BuildingType       Location   Size  AreaSqFt  NoOfBath  NoOfPeople  \\\n",
       "0  Minimum Budget Rooms    Portofino H  1 BHK     400.0         1           1   \n",
       "1  Minimum Budget Rooms    Portofino H  1 BHK     450.0         1           1   \n",
       "2  Minimum Budget Rooms  School Street  1 BHK     530.0         1           1   \n",
       "3  Minimum Budget Rooms    Portofino B  1 BHK     400.0         1           1   \n",
       "4  Minimum Budget Rooms  School Street  2 BHK     460.0         1           1   \n",
       "\n",
       "   NoOfBalcony  RentPerMonth  \n",
       "0            1        1100.0  \n",
       "1            1        1100.0  \n",
       "2            0        1166.0  \n",
       "3            0        1400.0  \n",
       "4            0        1500.0  "
      ]
     },
     "execution_count": 25,
     "metadata": {},
     "output_type": "execute_result"
    }
   ],
   "source": [
    "df.head()"
   ]
  },
  {
   "cell_type": "code",
   "execution_count": 26,
   "id": "c180fc75",
   "metadata": {},
   "outputs": [
    {
     "data": {
      "text/plain": [
       "(1000, 8)"
      ]
     },
     "execution_count": 26,
     "metadata": {},
     "output_type": "execute_result"
    }
   ],
   "source": [
    "df.shape"
   ]
  },
  {
   "cell_type": "code",
   "execution_count": 27,
   "id": "a73251e4",
   "metadata": {},
   "outputs": [
    {
     "data": {
      "text/html": [
       "<div>\n",
       "<style scoped>\n",
       "    .dataframe tbody tr th:only-of-type {\n",
       "        vertical-align: middle;\n",
       "    }\n",
       "\n",
       "    .dataframe tbody tr th {\n",
       "        vertical-align: top;\n",
       "    }\n",
       "\n",
       "    .dataframe thead th {\n",
       "        text-align: right;\n",
       "    }\n",
       "</style>\n",
       "<table border=\"1\" class=\"dataframe\">\n",
       "  <thead>\n",
       "    <tr style=\"text-align: right;\">\n",
       "      <th></th>\n",
       "      <th>AreaSqFt</th>\n",
       "      <th>NoOfBath</th>\n",
       "      <th>NoOfPeople</th>\n",
       "      <th>NoOfBalcony</th>\n",
       "      <th>RentPerMonth</th>\n",
       "    </tr>\n",
       "  </thead>\n",
       "  <tbody>\n",
       "    <tr>\n",
       "      <th>count</th>\n",
       "      <td>1000.000000</td>\n",
       "      <td>1000.000000</td>\n",
       "      <td>1000.000000</td>\n",
       "      <td>1000.000000</td>\n",
       "      <td>1000.000000</td>\n",
       "    </tr>\n",
       "    <tr>\n",
       "      <th>mean</th>\n",
       "      <td>1548.270010</td>\n",
       "      <td>2.661000</td>\n",
       "      <td>2.168000</td>\n",
       "      <td>1.544000</td>\n",
       "      <td>10476.633500</td>\n",
       "    </tr>\n",
       "    <tr>\n",
       "      <th>std</th>\n",
       "      <td>1345.141175</td>\n",
       "      <td>1.247251</td>\n",
       "      <td>0.959529</td>\n",
       "      <td>0.838312</td>\n",
       "      <td>10509.508971</td>\n",
       "    </tr>\n",
       "    <tr>\n",
       "      <th>min</th>\n",
       "      <td>375.000000</td>\n",
       "      <td>1.000000</td>\n",
       "      <td>1.000000</td>\n",
       "      <td>0.000000</td>\n",
       "      <td>1100.000000</td>\n",
       "    </tr>\n",
       "    <tr>\n",
       "      <th>25%</th>\n",
       "      <td>1090.000000</td>\n",
       "      <td>2.000000</td>\n",
       "      <td>2.000000</td>\n",
       "      <td>1.000000</td>\n",
       "      <td>4890.500000</td>\n",
       "    </tr>\n",
       "    <tr>\n",
       "      <th>50%</th>\n",
       "      <td>1270.000000</td>\n",
       "      <td>2.000000</td>\n",
       "      <td>2.000000</td>\n",
       "      <td>2.000000</td>\n",
       "      <td>7000.000000</td>\n",
       "    </tr>\n",
       "    <tr>\n",
       "      <th>75%</th>\n",
       "      <td>1664.250000</td>\n",
       "      <td>3.000000</td>\n",
       "      <td>2.000000</td>\n",
       "      <td>2.000000</td>\n",
       "      <td>11925.000000</td>\n",
       "    </tr>\n",
       "    <tr>\n",
       "      <th>max</th>\n",
       "      <td>35000.000000</td>\n",
       "      <td>11.000000</td>\n",
       "      <td>6.000000</td>\n",
       "      <td>3.000000</td>\n",
       "      <td>96000.000000</td>\n",
       "    </tr>\n",
       "  </tbody>\n",
       "</table>\n",
       "</div>"
      ],
      "text/plain": [
       "           AreaSqFt     NoOfBath   NoOfPeople  NoOfBalcony  RentPerMonth\n",
       "count   1000.000000  1000.000000  1000.000000  1000.000000   1000.000000\n",
       "mean    1548.270010     2.661000     2.168000     1.544000  10476.633500\n",
       "std     1345.141175     1.247251     0.959529     0.838312  10509.508971\n",
       "min      375.000000     1.000000     1.000000     0.000000   1100.000000\n",
       "25%     1090.000000     2.000000     2.000000     1.000000   4890.500000\n",
       "50%     1270.000000     2.000000     2.000000     2.000000   7000.000000\n",
       "75%     1664.250000     3.000000     2.000000     2.000000  11925.000000\n",
       "max    35000.000000    11.000000     6.000000     3.000000  96000.000000"
      ]
     },
     "execution_count": 27,
     "metadata": {},
     "output_type": "execute_result"
    }
   ],
   "source": [
    "df.describe()"
   ]
  },
  {
   "cell_type": "code",
   "execution_count": 28,
   "id": "a2ac1839",
   "metadata": {},
   "outputs": [
    {
     "name": "stdout",
     "output_type": "stream",
     "text": [
      "<class 'pandas.core.frame.DataFrame'>\n",
      "RangeIndex: 1000 entries, 0 to 999\n",
      "Data columns (total 8 columns):\n",
      " #   Column        Non-Null Count  Dtype  \n",
      "---  ------        --------------  -----  \n",
      " 0   BuildingType  1000 non-null   object \n",
      " 1   Location      1000 non-null   object \n",
      " 2   Size          1000 non-null   object \n",
      " 3   AreaSqFt      1000 non-null   float64\n",
      " 4   NoOfBath      1000 non-null   int64  \n",
      " 5   NoOfPeople    1000 non-null   int64  \n",
      " 6   NoOfBalcony   1000 non-null   int64  \n",
      " 7   RentPerMonth  1000 non-null   float64\n",
      "dtypes: float64(2), int64(3), object(3)\n",
      "memory usage: 62.6+ KB\n"
     ]
    }
   ],
   "source": [
    "df.info()"
   ]
  },
  {
   "cell_type": "code",
   "execution_count": 29,
   "id": "ad545448",
   "metadata": {},
   "outputs": [
    {
     "data": {
      "image/png": "[encoded data removed]",
      "text/plain": [
       "<Figure size 1440x1080 with 6 Axes>"
      ]
     },
     "metadata": {
      "needs_background": "light"
     },
     "output_type": "display_data"
    }
   ],
   "source": [
    "# Lets look at the distribution of all the numeric variables\n",
    "\n",
    "%matplotlib inline\n",
    "import matplotlib.pyplot as plt\n",
    "df.hist(bins=50, figsize=(20,15), color=['green'])\n",
    "plt.show()"
   ]
  },
  {
   "cell_type": "code",
   "execution_count": 30,
   "id": "ccbbd98b",
   "metadata": {},
   "outputs": [
    {
     "data": {
      "text/plain": [
       "<AxesSubplot:>"
      ]
     },
     "execution_count": 30,
     "metadata": {},
     "output_type": "execute_result"
    },
    {
     "data": {
      "image/png": "[encoded data removed]",
      "text/plain": [
       "<Figure size 432x288 with 1 Axes>"
      ]
     },
     "metadata": {
      "needs_background": "light"
     },
     "output_type": "display_data"
    }
   ],
   "source": [
    "df[\"RentPerMonth\"].hist()"
   ]
  },
  {
   "cell_type": "markdown",
   "id": "ac956188",
   "metadata": {},
   "source": [
    "## MODEL CREATION"
   ]
  },
  {
   "cell_type": "code",
   "execution_count": 31,
   "id": "239a8866",
   "metadata": {},
   "outputs": [],
   "source": [
    "X=df.drop([\"RentPerMonth\"], axis=1)\n",
    "y=df[\"RentPerMonth\"]"
   ]
  },
  {
   "cell_type": "code",
   "execution_count": 32,
   "id": "71a79649",
   "metadata": {},
   "outputs": [
    {
     "data": {
      "text/html": [
       "<div>\n",
       "<style scoped>\n",
       "    .dataframe tbody tr th:only-of-type {\n",
       "        vertical-align: middle;\n",
       "    }\n",
       "\n",
       "    .dataframe tbody tr th {\n",
       "        vertical-align: top;\n",
       "    }\n",
       "\n",
       "    .dataframe thead th {\n",
       "        text-align: right;\n",
       "    }\n",
       "</style>\n",
       "<table border=\"1\" class=\"dataframe\">\n",
       "  <thead>\n",
       "    <tr style=\"text-align: right;\">\n",
       "      <th></th>\n",
       "      <th>BuildingType</th>\n",
       "      <th>Location</th>\n",
       "      <th>Size</th>\n",
       "      <th>AreaSqFt</th>\n",
       "      <th>NoOfBath</th>\n",
       "      <th>NoOfPeople</th>\n",
       "      <th>NoOfBalcony</th>\n",
       "      <th>RentPerMonth</th>\n",
       "    </tr>\n",
       "  </thead>\n",
       "  <tbody>\n",
       "    <tr>\n",
       "      <th>0</th>\n",
       "      <td>Minimum Budget Rooms</td>\n",
       "      <td>Portofino H</td>\n",
       "      <td>1 BHK</td>\n",
       "      <td>400.0</td>\n",
       "      <td>1</td>\n",
       "      <td>1</td>\n",
       "      <td>1</td>\n",
       "      <td>1100.0</td>\n",
       "    </tr>\n",
       "    <tr>\n",
       "      <th>1</th>\n",
       "      <td>Minimum Budget Rooms</td>\n",
       "      <td>Portofino H</td>\n",
       "      <td>1 BHK</td>\n",
       "      <td>450.0</td>\n",
       "      <td>1</td>\n",
       "      <td>1</td>\n",
       "      <td>1</td>\n",
       "      <td>1100.0</td>\n",
       "    </tr>\n",
       "    <tr>\n",
       "      <th>2</th>\n",
       "      <td>Minimum Budget Rooms</td>\n",
       "      <td>School Street</td>\n",
       "      <td>1 BHK</td>\n",
       "      <td>530.0</td>\n",
       "      <td>1</td>\n",
       "      <td>1</td>\n",
       "      <td>0</td>\n",
       "      <td>1166.0</td>\n",
       "    </tr>\n",
       "    <tr>\n",
       "      <th>3</th>\n",
       "      <td>Minimum Budget Rooms</td>\n",
       "      <td>Portofino B</td>\n",
       "      <td>1 BHK</td>\n",
       "      <td>400.0</td>\n",
       "      <td>1</td>\n",
       "      <td>1</td>\n",
       "      <td>0</td>\n",
       "      <td>1400.0</td>\n",
       "    </tr>\n",
       "    <tr>\n",
       "      <th>4</th>\n",
       "      <td>Minimum Budget Rooms</td>\n",
       "      <td>School Street</td>\n",
       "      <td>2 BHK</td>\n",
       "      <td>460.0</td>\n",
       "      <td>1</td>\n",
       "      <td>1</td>\n",
       "      <td>0</td>\n",
       "      <td>1500.0</td>\n",
       "    </tr>\n",
       "    <tr>\n",
       "      <th>...</th>\n",
       "      <td>...</td>\n",
       "      <td>...</td>\n",
       "      <td>...</td>\n",
       "      <td>...</td>\n",
       "      <td>...</td>\n",
       "      <td>...</td>\n",
       "      <td>...</td>\n",
       "      <td>...</td>\n",
       "    </tr>\n",
       "    <tr>\n",
       "      <th>95</th>\n",
       "      <td>Semi Furnished Single Room</td>\n",
       "      <td>Portofino A</td>\n",
       "      <td>2 BHK</td>\n",
       "      <td>700.0</td>\n",
       "      <td>2</td>\n",
       "      <td>2</td>\n",
       "      <td>1</td>\n",
       "      <td>3600.0</td>\n",
       "    </tr>\n",
       "    <tr>\n",
       "      <th>96</th>\n",
       "      <td>Minimum Budget Rooms</td>\n",
       "      <td>Clubview Road</td>\n",
       "      <td>2 BHK</td>\n",
       "      <td>869.0</td>\n",
       "      <td>2</td>\n",
       "      <td>2</td>\n",
       "      <td>1</td>\n",
       "      <td>3600.0</td>\n",
       "    </tr>\n",
       "    <tr>\n",
       "      <th>97</th>\n",
       "      <td>Minimum Budget Rooms</td>\n",
       "      <td>School Street</td>\n",
       "      <td>3 BHK</td>\n",
       "      <td>1075.0</td>\n",
       "      <td>2</td>\n",
       "      <td>1</td>\n",
       "      <td>1</td>\n",
       "      <td>3600.0</td>\n",
       "    </tr>\n",
       "    <tr>\n",
       "      <th>98</th>\n",
       "      <td>Semi Furnished Single Room</td>\n",
       "      <td>Portofino C</td>\n",
       "      <td>2 BHK</td>\n",
       "      <td>1025.0</td>\n",
       "      <td>2</td>\n",
       "      <td>1</td>\n",
       "      <td>2</td>\n",
       "      <td>3600.0</td>\n",
       "    </tr>\n",
       "    <tr>\n",
       "      <th>99</th>\n",
       "      <td>Minimum Budget Rooms</td>\n",
       "      <td>School Street</td>\n",
       "      <td>3 BHK</td>\n",
       "      <td>1075.0</td>\n",
       "      <td>3</td>\n",
       "      <td>1</td>\n",
       "      <td>2</td>\n",
       "      <td>3600.0</td>\n",
       "    </tr>\n",
       "  </tbody>\n",
       "</table>\n",
       "<p>100 rows × 8 columns</p>\n",
       "</div>"
      ],
      "text/plain": [
       "                  BuildingType       Location   Size  AreaSqFt  NoOfBath  \\\n",
       "0         Minimum Budget Rooms    Portofino H  1 BHK     400.0         1   \n",
       "1         Minimum Budget Rooms    Portofino H  1 BHK     450.0         1   \n",
       "2         Minimum Budget Rooms  School Street  1 BHK     530.0         1   \n",
       "3         Minimum Budget Rooms    Portofino B  1 BHK     400.0         1   \n",
       "4         Minimum Budget Rooms  School Street  2 BHK     460.0         1   \n",
       "..                         ...            ...    ...       ...       ...   \n",
       "95  Semi Furnished Single Room    Portofino A  2 BHK     700.0         2   \n",
       "96        Minimum Budget Rooms  Clubview Road  2 BHK     869.0         2   \n",
       "97        Minimum Budget Rooms  School Street  3 BHK    1075.0         2   \n",
       "98  Semi Furnished Single Room    Portofino C  2 BHK    1025.0         2   \n",
       "99        Minimum Budget Rooms  School Street  3 BHK    1075.0         3   \n",
       "\n",
       "    NoOfPeople  NoOfBalcony  RentPerMonth  \n",
       "0            1            1        1100.0  \n",
       "1            1            1        1100.0  \n",
       "2            1            0        1166.0  \n",
       "3            1            0        1400.0  \n",
       "4            1            0        1500.0  \n",
       "..         ...          ...           ...  \n",
       "95           2            1        3600.0  \n",
       "96           2            1        3600.0  \n",
       "97           1            1        3600.0  \n",
       "98           1            2        3600.0  \n",
       "99           1            2        3600.0  \n",
       "\n",
       "[100 rows x 8 columns]"
      ]
     },
     "execution_count": 32,
     "metadata": {},
     "output_type": "execute_result"
    }
   ],
   "source": [
    "df.head(100)"
   ]
  },
  {
   "cell_type": "code",
   "execution_count": 33,
   "id": "6b41653e",
   "metadata": {},
   "outputs": [],
   "source": [
    "from sklearn.linear_model import LinearRegression\n",
    "lreg = LinearRegression()\n",
    "from sklearn.preprocessing import LabelEncoder\n",
    "le=LabelEncoder()"
   ]
  },
  {
   "cell_type": "code",
   "execution_count": 34,
   "id": "17deb45d",
   "metadata": {},
   "outputs": [
    {
     "name": "stdout",
     "output_type": "stream",
     "text": [
      "<class 'pandas.core.frame.DataFrame'>\n",
      "RangeIndex: 1000 entries, 0 to 999\n",
      "Data columns (total 7 columns):\n",
      " #   Column        Non-Null Count  Dtype  \n",
      "---  ------        --------------  -----  \n",
      " 0   BuildingType  1000 non-null   object \n",
      " 1   Location      1000 non-null   object \n",
      " 2   Size          1000 non-null   object \n",
      " 3   AreaSqFt      1000 non-null   float64\n",
      " 4   NoOfBath      1000 non-null   int64  \n",
      " 5   NoOfPeople    1000 non-null   int64  \n",
      " 6   NoOfBalcony   1000 non-null   int64  \n",
      "dtypes: float64(1), int64(3), object(3)\n",
      "memory usage: 54.8+ KB\n"
     ]
    }
   ],
   "source": [
    "X.info()"
   ]
  },
  {
   "cell_type": "code",
   "execution_count": 35,
   "id": "6b3f3cfb",
   "metadata": {},
   "outputs": [],
   "source": [
    "X[\"BuildingType\"]=le.fit_transform(X[\"BuildingType\"])\n",
    "X[\"Location\"]=le.fit_transform(X[\"Location\"])\n",
    "X[\"Size\"]=le.fit_transform(X[\"Size\"])"
   ]
  },
  {
   "cell_type": "code",
   "execution_count": null,
   "id": "1d51696f",
   "metadata": {},
   "outputs": [],
   "source": []
  },
  {
   "cell_type": "code",
   "execution_count": 36,
   "id": "0b85996a",
   "metadata": {},
   "outputs": [
    {
     "data": {
      "text/plain": [
       "0.6809147270766156"
      ]
     },
     "execution_count": 36,
     "metadata": {},
     "output_type": "execute_result"
    }
   ],
   "source": [
    "X_train1,x_test1,y_train1,y_test1=train_test_split(X,y,test_size=0.5)\n",
    "model=lreg.fit(X_train1, y_train1)\n",
    "y_pred=model.predict(x_test1)\n",
    "from sklearn.metrics import r2_score\n",
    "r2_score(y_test1, y_pred)"
   ]
  },
  {
   "cell_type": "code",
   "execution_count": 37,
   "id": "da0b6b71",
   "metadata": {},
   "outputs": [
    {
     "data": {
      "text/plain": [
       "0.43083009353056656"
      ]
     },
     "execution_count": 37,
     "metadata": {},
     "output_type": "execute_result"
    }
   ],
   "source": [
    "X_train2, X_test2, y_train2, y_test2 = train_test_split(X,y, test_size=0.4,\n",
    "                                                    random_state=5)\n",
    "model=lreg.fit(X_train2, y_train2)\n",
    "y_pred=model.predict(X_test2)\n",
    "from sklearn.metrics import r2_score\n",
    "r2_score(y_test2, y_pred)"
   ]
  },
  {
   "cell_type": "code",
   "execution_count": 38,
   "id": "11fc1a61",
   "metadata": {},
   "outputs": [
    {
     "data": {
      "text/plain": [
       "0.700182604678308"
      ]
     },
     "execution_count": 38,
     "metadata": {},
     "output_type": "execute_result"
    }
   ],
   "source": [
    "X_train3, X_test3, y_train3, y_test3 = train_test_split(X,y, test_size=0.3,\n",
    "                                                    random_state=89)\n",
    "model=lreg.fit(X_train3, y_train3)\n",
    "y_pred=model.predict(X_test3)\n",
    "from sklearn.metrics import r2_score\n",
    "r2_score(y_test3, y_pred)"
   ]
  },
  {
   "cell_type": "code",
   "execution_count": 39,
   "id": "fa7b643a",
   "metadata": {},
   "outputs": [
    {
     "data": {
      "text/plain": [
       "0.4638490075517905"
      ]
     },
     "execution_count": 39,
     "metadata": {},
     "output_type": "execute_result"
    }
   ],
   "source": [
    "X_train4, X_test4, y_train4, y_test4 = train_test_split(X,y, test_size=0.2,\n",
    "                                                    random_state=2)\n",
    "model=lreg.fit(X_train4, y_train4)\n",
    "y_pred=model.predict(X_test4)\n",
    "from sklearn.metrics import r2_score\n",
    "r2_score(y_test4, y_pred)"
   ]
  },
  {
   "cell_type": "code",
   "execution_count": 40,
   "id": "72881861",
   "metadata": {},
   "outputs": [],
   "source": [
    "DataF=pd.DataFrame(columns=['BuildingType', 'Location', 'Size', 'AreaSqFt', 'NoOfBath','NoOfPeople', 'NoOfBalcony'])\n",
    "DataF\n",
    "\n",
    "p1={'BuildingType':1, 'Location':2, 'Size':1, 'AreaSqFt':300.0, 'NoOfBath':1, 'NoOfPeople':1, 'NoOfBalcony':0}\n",
    "p2={'BuildingType':2, 'Location':3, 'Size':2, 'AreaSqFt':200.0, 'NoOfBath':2, 'NoOfPeople':2, 'NoOfBalcony':1}\n",
    "p3={'BuildingType':3, 'Location':4, 'Size':3, 'AreaSqFt':300.0, 'NoOfBath':3, 'NoOfPeople':3, 'NoOfBalcony':2}\n"
   ]
  },
  {
   "cell_type": "code",
   "execution_count": 41,
   "id": "9a6f16db",
   "metadata": {},
   "outputs": [
    {
     "data": {
      "text/html": [
       "<div>\n",
       "<style scoped>\n",
       "    .dataframe tbody tr th:only-of-type {\n",
       "        vertical-align: middle;\n",
       "    }\n",
       "\n",
       "    .dataframe tbody tr th {\n",
       "        vertical-align: top;\n",
       "    }\n",
       "\n",
       "    .dataframe thead th {\n",
       "        text-align: right;\n",
       "    }\n",
       "</style>\n",
       "<table border=\"1\" class=\"dataframe\">\n",
       "  <thead>\n",
       "    <tr style=\"text-align: right;\">\n",
       "      <th></th>\n",
       "      <th>BuildingType</th>\n",
       "      <th>Location</th>\n",
       "      <th>Size</th>\n",
       "      <th>AreaSqFt</th>\n",
       "      <th>NoOfBath</th>\n",
       "      <th>NoOfPeople</th>\n",
       "      <th>NoOfBalcony</th>\n",
       "    </tr>\n",
       "  </thead>\n",
       "  <tbody>\n",
       "    <tr>\n",
       "      <th>0</th>\n",
       "      <td>1.0</td>\n",
       "      <td>2.0</td>\n",
       "      <td>1.0</td>\n",
       "      <td>300.0</td>\n",
       "      <td>1.0</td>\n",
       "      <td>1.0</td>\n",
       "      <td>0.0</td>\n",
       "    </tr>\n",
       "    <tr>\n",
       "      <th>1</th>\n",
       "      <td>2.0</td>\n",
       "      <td>3.0</td>\n",
       "      <td>2.0</td>\n",
       "      <td>200.0</td>\n",
       "      <td>2.0</td>\n",
       "      <td>2.0</td>\n",
       "      <td>1.0</td>\n",
       "    </tr>\n",
       "    <tr>\n",
       "      <th>2</th>\n",
       "      <td>3.0</td>\n",
       "      <td>4.0</td>\n",
       "      <td>3.0</td>\n",
       "      <td>300.0</td>\n",
       "      <td>3.0</td>\n",
       "      <td>3.0</td>\n",
       "      <td>2.0</td>\n",
       "    </tr>\n",
       "  </tbody>\n",
       "</table>\n",
       "</div>"
      ],
      "text/plain": [
       "   BuildingType  Location  Size  AreaSqFt  NoOfBath  NoOfPeople  NoOfBalcony\n",
       "0           1.0       2.0   1.0     300.0       1.0         1.0          0.0\n",
       "1           2.0       3.0   2.0     200.0       2.0         2.0          1.0\n",
       "2           3.0       4.0   3.0     300.0       3.0         3.0          2.0"
      ]
     },
     "execution_count": 41,
     "metadata": {},
     "output_type": "execute_result"
    }
   ],
   "source": [
    "DataF=DataF.append(p1, ignore_index=True)\n",
    "DataF=DataF.append(p2, ignore_index=True)\n",
    "DataF=DataF.append(p3, ignore_index=True)\n",
    "\n",
    "DataF"
   ]
  },
  {
   "cell_type": "code",
   "execution_count": 42,
   "id": "d3fb5062",
   "metadata": {},
   "outputs": [
    {
     "data": {
      "text/html": [
       "<div>\n",
       "<style scoped>\n",
       "    .dataframe tbody tr th:only-of-type {\n",
       "        vertical-align: middle;\n",
       "    }\n",
       "\n",
       "    .dataframe tbody tr th {\n",
       "        vertical-align: top;\n",
       "    }\n",
       "\n",
       "    .dataframe thead th {\n",
       "        text-align: right;\n",
       "    }\n",
       "</style>\n",
       "<table border=\"1\" class=\"dataframe\">\n",
       "  <thead>\n",
       "    <tr style=\"text-align: right;\">\n",
       "      <th></th>\n",
       "      <th>Ratio</th>\n",
       "      <th>Accuracy</th>\n",
       "    </tr>\n",
       "  </thead>\n",
       "  <tbody>\n",
       "  </tbody>\n",
       "</table>\n",
       "</div>"
      ],
      "text/plain": [
       "Empty DataFrame\n",
       "Columns: [Ratio, Accuracy]\n",
       "Index: []"
      ]
     },
     "execution_count": 42,
     "metadata": {},
     "output_type": "execute_result"
    }
   ],
   "source": [
    "new_dataf=pd.DataFrame(columns=['Ratio', 'Accuracy'])\n",
    "new_dataf"
   ]
  },
  {
   "cell_type": "code",
   "execution_count": 43,
   "id": "302e8a46",
   "metadata": {},
   "outputs": [],
   "source": [
    "acc1 = {'Ratio':0.5, 'Accuracy':0.709233020037789}\n",
    "acc2 = {'Ratio':0.4, 'Accuracy':0.43083009353056656}\n",
    "acc3 = {'Ratio':0.3, 'Accuracy':0.700182604678308}\n",
    "acc4 = {'Ratio':0.2, 'Accuracy':0.6806148210811338}"
   ]
  },
  {
   "cell_type": "code",
   "execution_count": 44,
   "id": "4534b1b4",
   "metadata": {},
   "outputs": [
    {
     "data": {
      "text/html": [
       "<div>\n",
       "<style scoped>\n",
       "    .dataframe tbody tr th:only-of-type {\n",
       "        vertical-align: middle;\n",
       "    }\n",
       "\n",
       "    .dataframe tbody tr th {\n",
       "        vertical-align: top;\n",
       "    }\n",
       "\n",
       "    .dataframe thead th {\n",
       "        text-align: right;\n",
       "    }\n",
       "</style>\n",
       "<table border=\"1\" class=\"dataframe\">\n",
       "  <thead>\n",
       "    <tr style=\"text-align: right;\">\n",
       "      <th></th>\n",
       "      <th>Ratio</th>\n",
       "      <th>Accuracy</th>\n",
       "    </tr>\n",
       "  </thead>\n",
       "  <tbody>\n",
       "    <tr>\n",
       "      <th>0</th>\n",
       "      <td>0.5</td>\n",
       "      <td>0.709233</td>\n",
       "    </tr>\n",
       "    <tr>\n",
       "      <th>1</th>\n",
       "      <td>0.4</td>\n",
       "      <td>0.430830</td>\n",
       "    </tr>\n",
       "    <tr>\n",
       "      <th>2</th>\n",
       "      <td>0.3</td>\n",
       "      <td>0.700183</td>\n",
       "    </tr>\n",
       "    <tr>\n",
       "      <th>3</th>\n",
       "      <td>0.2</td>\n",
       "      <td>0.680615</td>\n",
       "    </tr>\n",
       "  </tbody>\n",
       "</table>\n",
       "</div>"
      ],
      "text/plain": [
       "   Ratio  Accuracy\n",
       "0    0.5  0.709233\n",
       "1    0.4  0.430830\n",
       "2    0.3  0.700183\n",
       "3    0.2  0.680615"
      ]
     },
     "execution_count": 44,
     "metadata": {},
     "output_type": "execute_result"
    }
   ],
   "source": [
    "new_dataf=new_dataf.append(acc1, ignore_index=True)\n",
    "new_dataf=new_dataf.append(acc2, ignore_index=True)\n",
    "new_dataf=new_dataf.append(acc3, ignore_index=True)\n",
    "new_dataf=new_dataf.append(acc4, ignore_index=True)\n",
    "\n",
    "new_dataf"
   ]
  },
  {
   "cell_type": "markdown",
   "id": "b51193c3",
   "metadata": {},
   "source": [
    "### Normalization rescales the values into a range of [0,1]. also called min-max scaled. Standardization rescales data to have a mean (μ) of 0 and standard deviation (σ) of 1.So it gives a normal graph"
   ]
  },
  {
   "cell_type": "markdown",
   "id": "9ad6b689",
   "metadata": {},
   "source": [
    "## conclusion:"
   ]
  },
  {
   "cell_type": "markdown",
   "id": "f1d8653a",
   "metadata": {},
   "source": [
    "### I believe this model could be optimized and tuned more to add accuracy either by adding new features or engineering new features. This model can be used to predict the house prices in any geographic location by just slightly fine tuning the features and parameters."
   ]
  },
  {
   "cell_type": "code",
   "execution_count": null,
   "id": "6b008042",
   "metadata": {},
   "outputs": [],
   "source": []
  }
 ],
 "metadata": {
  "kernelspec": {
   "display_name": "Python 3",
   "language": "python",
   "name": "python3"
  },
  "language_info": {
   "codemirror_mode": {
    "name": "ipython",
    "version": 3
   },
   "file_extension": ".py",
   "mimetype": "text/x-python",
   "name": "python",
   "nbconvert_exporter": "python",
   "pygments_lexer": "ipython3",
   "version": "3.9.6"
  }
 },
 "nbformat": 4,
 "nbformat_minor": 5
}
